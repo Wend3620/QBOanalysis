{
 "cells": [
  {
   "cell_type": "code",
   "execution_count": 5,
   "metadata": {},
   "outputs": [],
   "source": [
    "import matplotlib.pyplot as plt\n",
    "import numpy as np\n",
    "import json"
   ]
  },
  {
   "cell_type": "code",
   "execution_count": 3,
   "metadata": {},
   "outputs": [],
   "source": [
    "out = dict()\n",
    "with open(\"./data/QBOmonthly.txt\", \"r\") as f:\n",
    "    lines = f.read()\n",
    "    lines = lines.split(\"\\n\")\n",
    "    for line in lines:\n",
    "        line = line.strip().split(\" \")\n",
    "        if line[0][:4] != \"\":\n",
    "            year = int(line[0][:4])\n",
    "            if line[0][4:] != \"\":\n",
    "                month = round(float(\"0\"+line[0][4:])*12)+1\n",
    "            else:\n",
    "                month = 1\n",
    "            #print(month)\n",
    "        try:\n",
    "            index = float(line[1])\n",
    "        except:\n",
    "            continue\n",
    "        if year not in out:\n",
    "            out[year] = {}\n",
    "        out[year][month] = index"
   ]
  },
  {
   "cell_type": "code",
   "execution_count": 6,
   "metadata": {},
   "outputs": [],
   "source": [
    "with open(\"QBO.json\", \"w\") as f:\n",
    "    input = json.dumps(out)\n",
    "    f.write(input)"
   ]
  },
  {
   "cell_type": "code",
   "execution_count": null,
   "metadata": {},
   "outputs": [],
   "source": []
  }
 ],
 "metadata": {
  "kernelspec": {
   "display_name": "Self",
   "language": "python",
   "name": "self"
  },
  "language_info": {
   "codemirror_mode": {
    "name": "ipython",
    "version": 3
   },
   "file_extension": ".py",
   "mimetype": "text/x-python",
   "name": "python",
   "nbconvert_exporter": "python",
   "pygments_lexer": "ipython3",
   "version": "3.10.8"
  },
  "orig_nbformat": 4
 },
 "nbformat": 4,
 "nbformat_minor": 2
}
